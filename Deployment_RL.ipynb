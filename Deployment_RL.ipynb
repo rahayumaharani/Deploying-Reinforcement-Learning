{
  "nbformat": 4,
  "nbformat_minor": 0,
  "metadata": {
    "colab": {
      "provenance": [],
      "include_colab_link": true
    },
    "kernelspec": {
      "name": "python3",
      "display_name": "Python 3"
    },
    "language_info": {
      "name": "python"
    }
  },
  "cells": [
    {
      "cell_type": "markdown",
      "metadata": {
        "id": "view-in-github",
        "colab_type": "text"
      },
      "source": [
        "<a href=\"https://colab.research.google.com/github/rahayumaharani/Deploying-Reinforcement-Learning/blob/main/Deployment_RL.ipynb\" target=\"_parent\"><img src=\"https://colab.research.google.com/assets/colab-badge.svg\" alt=\"Open In Colab\"/></a>"
      ]
    },
    {
      "cell_type": "code",
      "source": [
        "# Melakukan Instalasi Packages yang Dibutuhkan\n",
        "!pip install flask --quiet\n",
        "!pip install flask-ngrok --quiet\n",
        "!pip install gym==0.17.3 --quiet\n",
        "print(\"Completed!\")"
      ],
      "metadata": {
        "colab": {
          "base_uri": "https://localhost:8080/"
        },
        "id": "kKAGGjaoCn5f",
        "outputId": "3386f37a-55b7-44da-f607-f6ce235ebb80"
      },
      "execution_count": null,
      "outputs": [
        {
          "output_type": "stream",
          "name": "stdout",
          "text": [
            "\u001b[?25l     \u001b[90m━━━━━━━━━━━━━━━━━━━━━━━━━━━━━━━━━━━━━━━━\u001b[0m \u001b[32m0.0/1.6 MB\u001b[0m \u001b[31m?\u001b[0m eta \u001b[36m-:--:--\u001b[0m\r\u001b[2K     \u001b[91m━━━━━━━━━━━━━━━━━━━━━━\u001b[0m\u001b[91m╸\u001b[0m\u001b[90m━━━━━━━━━━━━━━━━━\u001b[0m \u001b[32m0.9/1.6 MB\u001b[0m \u001b[31m26.6 MB/s\u001b[0m eta \u001b[36m0:00:01\u001b[0m\r\u001b[2K     \u001b[90m━━━━━━━━━━━━━━━━━━━━━━━━━━━━━━━━━━━━━━━━\u001b[0m \u001b[32m1.6/1.6 MB\u001b[0m \u001b[31m29.7 MB/s\u001b[0m eta \u001b[36m0:00:00\u001b[0m\n",
            "\u001b[?25h  Preparing metadata (setup.py) ... \u001b[?25l\u001b[?25hdone\n",
            "\u001b[2K     \u001b[90m━━━━━━━━━━━━━━━━━━━━━━━━━━━━━━━━━━━━━━━━\u001b[0m \u001b[32m1.0/1.0 MB\u001b[0m \u001b[31m48.8 MB/s\u001b[0m eta \u001b[36m0:00:00\u001b[0m\n",
            "\u001b[?25h  Building wheel for gym (setup.py) ... \u001b[?25l\u001b[?25hdone\n",
            "Completed!\n"
          ]
        }
      ]
    },
    {
      "cell_type": "code",
      "execution_count": null,
      "metadata": {
        "colab": {
          "base_uri": "https://localhost:8080/"
        },
        "id": "iG6sBoZ5CeLI",
        "outputId": "44972a14-06f4-4af5-f519-7586930590eb"
      },
      "outputs": [
        {
          "output_type": "stream",
          "name": "stdout",
          "text": [
            "--2023-05-02 15:20:43--  https://bin.equinox.io/c/4VmDzA7iaHb/ngrok-stable-linux-amd64.tgz\n",
            "Resolving bin.equinox.io (bin.equinox.io)... 54.161.241.46, 52.202.168.65, 54.237.133.81, ...\n",
            "Connecting to bin.equinox.io (bin.equinox.io)|54.161.241.46|:443... connected.\n",
            "HTTP request sent, awaiting response... 200 OK\n",
            "Length: 13856790 (13M) [application/octet-stream]\n",
            "Saving to: ‘ngrok-stable-linux-amd64.tgz’\n",
            "\n",
            "ngrok-stable-linux- 100%[===================>]  13.21M  3.30MB/s    in 5.2s    \n",
            "\n",
            "2023-05-02 15:20:49 (2.55 MB/s) - ‘ngrok-stable-linux-amd64.tgz’ saved [13856790/13856790]\n",
            "\n",
            "ngrok\n"
          ]
        }
      ],
      "source": [
        "# Download \"ngrox\" \n",
        "!wget https://bin.equinox.io/c/4VmDzA7iaHb/ngrok-stable-linux-amd64.tgz\n",
        "!tar -xvf /content/ngrok-stable-linux-amd64.tgz "
      ]
    },
    {
      "cell_type": "code",
      "source": [
        "# Setting Token\n",
        "!./ngrok authtoken <Auth Token> # diganti dengan token Anda !"
      ],
      "metadata": {
        "colab": {
          "base_uri": "https://localhost:8080/"
        },
        "id": "POTiBE3cDSGV",
        "outputId": "87a822ac-45be-4082-84f8-4adbee88b54e"
      },
      "execution_count": null,
      "outputs": [
        {
          "output_type": "stream",
          "name": "stdout",
          "text": [
            "Authtoken saved to configuration file: /root/.ngrok2/ngrok.yml\n"
          ]
        }
      ]
    },
    {
      "cell_type": "code",
      "source": [
        "# Clone Repository dari Github\n",
        "!git clone https://github.com/pemula-newbie/deployment-rl"
      ],
      "metadata": {
        "colab": {
          "base_uri": "https://localhost:8080/"
        },
        "id": "yk96a28RDZUu",
        "outputId": "15b8d014-b715-47f0-8ab6-f40510bd1f41"
      },
      "execution_count": null,
      "outputs": [
        {
          "output_type": "stream",
          "name": "stdout",
          "text": [
            "Cloning into 'deployment-rl'...\n",
            "remote: Enumerating objects: 35, done.\u001b[K\n",
            "remote: Counting objects: 100% (35/35), done.\u001b[K\n",
            "remote: Compressing objects: 100% (34/34), done.\u001b[K\n",
            "remote: Total 35 (delta 6), reused 0 (delta 0), pack-reused 0\u001b[K\n",
            "Unpacking objects: 100% (35/35), 271.21 KiB | 7.53 MiB/s, done.\n"
          ]
        }
      ]
    },
    {
      "cell_type": "code",
      "source": [
        "cd /content/deployment-rl/"
      ],
      "metadata": {
        "colab": {
          "base_uri": "https://localhost:8080/"
        },
        "id": "ydMYuFdvDhr8",
        "outputId": "4d7b8f93-6c36-4260-9e74-3f849314a6eb"
      },
      "execution_count": null,
      "outputs": [
        {
          "output_type": "stream",
          "name": "stdout",
          "text": [
            "/content/deployment-rl\n"
          ]
        }
      ]
    },
    {
      "cell_type": "code",
      "source": [
        "# Jalankan Aplikasi (Kode Python \"app.py\")\n",
        "!python3 app.py"
      ],
      "metadata": {
        "colab": {
          "base_uri": "https://localhost:8080/"
        },
        "id": "lNtk50LaDnHQ",
        "outputId": "b76eb249-386b-4d8d-b0ad-9443913363ff"
      },
      "execution_count": null,
      "outputs": [
        {
          "output_type": "stream",
          "name": "stdout",
          "text": [
            " * Serving Flask app 'app'\n",
            " * Debug mode: off\n",
            "\u001b[31m\u001b[1mWARNING: This is a development server. Do not use it in a production deployment. Use a production WSGI server instead.\u001b[0m\n",
            " * Running on http://127.0.0.1:5000\n",
            "\u001b[33mPress CTRL+C to quit\u001b[0m\n",
            " * Running on http://a90d-34-82-233-29.ngrok-free.app\n",
            " * Traffic stats available on http://127.0.0.1:4040\n",
            "127.0.0.1 - - [02/May/2023 15:22:30] \"GET / HTTP/1.1\" 200 -\n",
            "127.0.0.1 - - [02/May/2023 15:22:31] \"\u001b[32mGET /static//css/bootstrap.min.css HTTP/1.1\u001b[0m\" 308 -\n",
            "127.0.0.1 - - [02/May/2023 15:22:31] \"\u001b[32mGET /static//js/client_side.js HTTP/1.1\u001b[0m\" 308 -\n",
            "127.0.0.1 - - [02/May/2023 15:22:31] \"\u001b[32mGET /static//js/jquery_3.6.0.min.js HTTP/1.1\u001b[0m\" 308 -\n",
            "127.0.0.1 - - [02/May/2023 15:22:31] \"\u001b[32mGET /static//images/orbit_logo.jpg HTTP/1.1\u001b[0m\" 308 -\n",
            "127.0.0.1 - - [02/May/2023 15:22:31] \"\u001b[32mGET /static//css/client_side.css HTTP/1.1\u001b[0m\" 308 -\n",
            "127.0.0.1 - - [02/May/2023 15:22:31] \"\u001b[32mGET /static//js/bootstrap_3.4.1.min.js HTTP/1.1\u001b[0m\" 308 -\n",
            "127.0.0.1 - - [02/May/2023 15:22:31] \"\u001b[32mGET /static//images/app-display.JPG HTTP/1.1\u001b[0m\" 308 -\n",
            "127.0.0.1 - - [02/May/2023 15:22:31] \"GET /static/css/bootstrap.min.css HTTP/1.1\" 200 -\n",
            "127.0.0.1 - - [02/May/2023 15:22:31] \"GET /static/images/orbit_logo.jpg HTTP/1.1\" 200 -\n",
            "127.0.0.1 - - [02/May/2023 15:22:31] \"GET /static/js/jquery_3.6.0.min.js HTTP/1.1\" 200 -\n",
            "127.0.0.1 - - [02/May/2023 15:22:31] \"GET /static/js/client_side.js HTTP/1.1\" 200 -\n",
            "127.0.0.1 - - [02/May/2023 15:22:31] \"GET /static/js/bootstrap_3.4.1.min.js HTTP/1.1\" 200 -\n",
            "127.0.0.1 - - [02/May/2023 15:22:31] \"GET /static/images/app-display.JPG HTTP/1.1\" 200 -\n",
            "127.0.0.1 - - [02/May/2023 15:22:31] \"GET /static/css/client_side.css HTTP/1.1\" 200 -\n",
            "127.0.0.1 - - [02/May/2023 15:22:32] \"GET /static/favicon.ico HTTP/1.1\" 200 -\n",
            "127.0.0.1 - - [02/May/2023 15:22:32] \"GET /static/fonts/lato_latin.woff2 HTTP/1.1\" 200 -\n",
            "127.0.0.1 - - [02/May/2023 15:22:32] \"GET /static/fonts/glyphicons-halflings-regular.eot HTTP/1.1\" 200 -\n",
            "127.0.0.1 - - [02/May/2023 15:22:33] \"GET /static/fonts/glyphicons-halflings-regular.woff2 HTTP/1.1\" 200 -\n",
            "127.0.0.1 - - [02/May/2023 15:22:33] \"GET /api/reset HTTP/1.1\" 200 -\n",
            "127.0.0.1 - - [02/May/2023 15:22:34] \"GET /static/images/frozen-pemain.JPG HTTP/1.1\" 200 -\n",
            "127.0.0.1 - - [02/May/2023 15:22:34] \"GET /static/images/frozen.JPG HTTP/1.1\" 200 -\n",
            "127.0.0.1 - - [02/May/2023 15:22:34] \"GET /static/images/lubang.JPG HTTP/1.1\" 200 -\n",
            "127.0.0.1 - - [02/May/2023 15:22:34] \"GET /static/images/goal.JPG HTTP/1.1\" 200 -\n",
            "127.0.0.1 - - [02/May/2023 15:22:37] \"POST /api/gerak HTTP/1.1\" 200 -\n",
            "127.0.0.1 - - [02/May/2023 15:22:38] \"GET /static/images/awal.JPG HTTP/1.1\" 200 -\n",
            "127.0.0.1 - - [02/May/2023 15:22:39] \"POST /api/gerak HTTP/1.1\" 200 -\n",
            "127.0.0.1 - - [02/May/2023 15:22:42] \"POST /api/gerak HTTP/1.1\" 200 -\n",
            "127.0.0.1 - - [02/May/2023 15:22:43] \"POST /api/gerak HTTP/1.1\" 200 -\n",
            "127.0.0.1 - - [02/May/2023 15:22:45] \"POST /api/gerak HTTP/1.1\" 200 -\n",
            "127.0.0.1 - - [02/May/2023 15:22:47] \"POST /api/gerak HTTP/1.1\" 200 -\n",
            "127.0.0.1 - - [02/May/2023 15:22:47] \"GET /static/images/goal-pemain.JPG HTTP/1.1\" 200 -\n",
            "127.0.0.1 - - [02/May/2023 15:22:57] \"GET /api/robotBelajar HTTP/1.1\" 200 -\n",
            "127.0.0.1 - - [02/May/2023 15:22:59] \"GET /api/reset HTTP/1.1\" 200 -\n",
            "127.0.0.1 - - [02/May/2023 15:23:00] \"GET /api/gerakRobot HTTP/1.1\" 200 -\n",
            "127.0.0.1 - - [02/May/2023 15:23:01] \"GET /api/gerakRobot HTTP/1.1\" 200 -\n",
            "127.0.0.1 - - [02/May/2023 15:23:04] \"GET /api/gerakRobot HTTP/1.1\" 200 -\n",
            "127.0.0.1 - - [02/May/2023 15:23:06] \"GET /api/gerakRobot HTTP/1.1\" 200 -\n",
            "127.0.0.1 - - [02/May/2023 15:23:08] \"GET /api/gerakRobot HTTP/1.1\" 200 -\n",
            "127.0.0.1 - - [02/May/2023 15:23:10] \"GET /api/gerakRobot HTTP/1.1\" 200 -\n",
            "Traceback (most recent call last):\n",
            "  File \"/content/deployment-rl/app.py\", line 208, in <module>\n",
            "    app.run()\n",
            "  File \"/usr/local/lib/python3.10/dist-packages/flask_ngrok.py\", line 88, in new_run\n",
            "    old_run()\n",
            "  File \"/usr/local/lib/python3.10/dist-packages/flask/app.py\", line 1191, in run\n",
            "    run_simple(t.cast(str, host), port, self, **options)\n",
            "  File \"/usr/local/lib/python3.10/dist-packages/werkzeug/serving.py\", line 1107, in run_simple\n",
            "    srv.serve_forever()\n",
            "  File \"/usr/local/lib/python3.10/dist-packages/werkzeug/serving.py\", line 808, in serve_forever\n",
            "    self.server_close()\n",
            "  File \"/usr/lib/python3.10/socketserver.py\", line 700, in server_close\n",
            "    super().server_close()\n",
            "  File \"/usr/lib/python3.10/socketserver.py\", line 483, in server_close\n",
            "    self.socket.close()\n",
            "  File \"/usr/lib/python3.10/socket.py\", line 502, in close\n",
            "    self._real_close()\n",
            "  File \"/usr/lib/python3.10/socket.py\", line 496, in _real_close\n",
            "    _ss.close(self)\n",
            "KeyboardInterrupt\n",
            "^C\n"
          ]
        }
      ]
    },
    {
      "cell_type": "code",
      "source": [],
      "metadata": {
        "id": "amvusvgmDpWH"
      },
      "execution_count": null,
      "outputs": []
    }
  ]
}